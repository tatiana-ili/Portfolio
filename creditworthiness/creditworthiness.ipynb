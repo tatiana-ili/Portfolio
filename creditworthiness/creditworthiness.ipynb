{
 "cells": [
  {
   "cell_type": "markdown",
   "id": "d8168a6c-a14e-4be7-b482-64e2bf77a6c2",
   "metadata": {
    "deletable": false,
    "id": "c81daeeb",
    "tags": []
   },
   "source": [
    "# Исследование надежности заемщиков - анализ банковских данных"
   ]
  },
  {
   "cell_type": "markdown",
   "id": "dd935133-4328-4d6c-b5b3-1483f8f363d2",
   "metadata": {},
   "source": [
    "## Описание проекта"
   ]
  },
  {
   "cell_type": "markdown",
   "id": "766eb4da-0899-429f-ad50-d3cc3570887c",
   "metadata": {},
   "source": [
    "*Цели и задачи проекта*\n",
    "\n",
    "На основе статистики о платёжеспособности клиентов исследовать влияет ли семейное положение и количество детей клиента на факт возврата кредита в срок.\n",
    "\n",
    "Ответим на несколько вопросов:\n",
    "\n",
    "- Есть ли зависимость между количеством детей и возвратом кредита в срок?\n",
    "- Падает ли количество кредитов в зависимости от количества детей у заёмщика?\n",
    "- Есть ли зависимость между семейным положением и возвратом кредита в срок?\n",
    "- Как разные цели кредита влияют на его возврат в срок?\n",
    "- Есть ли зависимость между уровнем дохода и возвратом кредита в срок?\n",
    "- Как изменяются доходы со временем?\n",
    "- Влияет ли образование на уровень дохода и наличие задолженности?\n",
    "- Различается ли общий доход должников и ответственных заёмщиков?\n",
    "\n",
    "*Данные*\n",
    "\n",
    "- children — количество детей в семье\n",
    "- days_employed — общий трудовой стаж в днях\n",
    "- dob_years — возраст клиента в годах\n",
    "- education — уровень образования клиента\n",
    "- education_id — идентификатор уровня образования\n",
    "- family_status — семейное положение\n",
    "- family_status_id — идентификатор семейного положения\n",
    "- gender — пол клиента\n",
    "- income_type — тип занятости\n",
    "- debt — имел ли задолженность по возврату кредитов\n",
    "- total_income — ежемесячный доход\n",
    "- purpose — цель получения кредита\n",
    "\n",
    "*План*\n",
    "\n",
    "- предобработка данных\n",
    "- исследование\n",
    "- вывод"
   ]
  },
  {
   "cell_type": "markdown",
   "id": "48d3b560-ead7-48d3-9dd5-268f6d2ba485",
   "metadata": {},
   "source": [
    "## Общая информация"
   ]
  },
  {
   "cell_type": "code",
   "execution_count": 1,
   "id": "75f5dcb6",
   "metadata": {
    "deletable": false,
    "id": "7bcf75c9"
   },
   "outputs": [],
   "source": [
    "import pandas as pd\n",
    "import matplotlib.pyplot as plt\n",
    "import seaborn as sns"
   ]
  },
  {
   "cell_type": "code",
   "execution_count": 2,
   "id": "d3f95e03-b2ca-4cc7-9d89-988d38d7a0b7",
   "metadata": {},
   "outputs": [],
   "source": [
    "try:\n",
    "    data = pd.read_csv('/datasets/data.csv')\n",
    "except:\n",
    "    data = pd.read_csv('/Users/porphyrion/Desktop/PRACTICUM/my_projects/datasets/data_credit.csv')"
   ]
  },
  {
   "cell_type": "code",
   "execution_count": 3,
   "id": "ecdf92e5",
   "metadata": {
    "deletable": false,
    "id": "2a7cab99",
    "outputId": "1a8f3ef2-d323-4ec2-ddf7-89670b5944c4"
   },
   "outputs": [
    {
     "data": {
      "text/html": [
       "<div>\n",
       "<style scoped>\n",
       "    .dataframe tbody tr th:only-of-type {\n",
       "        vertical-align: middle;\n",
       "    }\n",
       "\n",
       "    .dataframe tbody tr th {\n",
       "        vertical-align: top;\n",
       "    }\n",
       "\n",
       "    .dataframe thead th {\n",
       "        text-align: right;\n",
       "    }\n",
       "</style>\n",
       "<table border=\"1\" class=\"dataframe\">\n",
       "  <thead>\n",
       "    <tr style=\"text-align: right;\">\n",
       "      <th></th>\n",
       "      <th>children</th>\n",
       "      <th>days_employed</th>\n",
       "      <th>dob_years</th>\n",
       "      <th>education</th>\n",
       "      <th>education_id</th>\n",
       "      <th>family_status</th>\n",
       "      <th>family_status_id</th>\n",
       "      <th>gender</th>\n",
       "      <th>income_type</th>\n",
       "      <th>debt</th>\n",
       "      <th>total_income</th>\n",
       "      <th>purpose</th>\n",
       "    </tr>\n",
       "  </thead>\n",
       "  <tbody>\n",
       "    <tr>\n",
       "      <th>0</th>\n",
       "      <td>1</td>\n",
       "      <td>-8437.673028</td>\n",
       "      <td>42</td>\n",
       "      <td>высшее</td>\n",
       "      <td>0</td>\n",
       "      <td>женат / замужем</td>\n",
       "      <td>0</td>\n",
       "      <td>F</td>\n",
       "      <td>сотрудник</td>\n",
       "      <td>0</td>\n",
       "      <td>253875.639453</td>\n",
       "      <td>покупка жилья</td>\n",
       "    </tr>\n",
       "    <tr>\n",
       "      <th>1</th>\n",
       "      <td>1</td>\n",
       "      <td>-4024.803754</td>\n",
       "      <td>36</td>\n",
       "      <td>среднее</td>\n",
       "      <td>1</td>\n",
       "      <td>женат / замужем</td>\n",
       "      <td>0</td>\n",
       "      <td>F</td>\n",
       "      <td>сотрудник</td>\n",
       "      <td>0</td>\n",
       "      <td>112080.014102</td>\n",
       "      <td>приобретение автомобиля</td>\n",
       "    </tr>\n",
       "    <tr>\n",
       "      <th>2</th>\n",
       "      <td>0</td>\n",
       "      <td>-5623.422610</td>\n",
       "      <td>33</td>\n",
       "      <td>Среднее</td>\n",
       "      <td>1</td>\n",
       "      <td>женат / замужем</td>\n",
       "      <td>0</td>\n",
       "      <td>M</td>\n",
       "      <td>сотрудник</td>\n",
       "      <td>0</td>\n",
       "      <td>145885.952297</td>\n",
       "      <td>покупка жилья</td>\n",
       "    </tr>\n",
       "    <tr>\n",
       "      <th>3</th>\n",
       "      <td>3</td>\n",
       "      <td>-4124.747207</td>\n",
       "      <td>32</td>\n",
       "      <td>среднее</td>\n",
       "      <td>1</td>\n",
       "      <td>женат / замужем</td>\n",
       "      <td>0</td>\n",
       "      <td>M</td>\n",
       "      <td>сотрудник</td>\n",
       "      <td>0</td>\n",
       "      <td>267628.550329</td>\n",
       "      <td>дополнительное образование</td>\n",
       "    </tr>\n",
       "    <tr>\n",
       "      <th>4</th>\n",
       "      <td>0</td>\n",
       "      <td>340266.072047</td>\n",
       "      <td>53</td>\n",
       "      <td>среднее</td>\n",
       "      <td>1</td>\n",
       "      <td>гражданский брак</td>\n",
       "      <td>1</td>\n",
       "      <td>F</td>\n",
       "      <td>пенсионер</td>\n",
       "      <td>0</td>\n",
       "      <td>158616.077870</td>\n",
       "      <td>сыграть свадьбу</td>\n",
       "    </tr>\n",
       "  </tbody>\n",
       "</table>\n",
       "</div>"
      ],
      "text/plain": [
       "   children  days_employed  dob_years education  education_id  \\\n",
       "0         1   -8437.673028         42    высшее             0   \n",
       "1         1   -4024.803754         36   среднее             1   \n",
       "2         0   -5623.422610         33   Среднее             1   \n",
       "3         3   -4124.747207         32   среднее             1   \n",
       "4         0  340266.072047         53   среднее             1   \n",
       "\n",
       "      family_status  family_status_id gender income_type  debt   total_income  \\\n",
       "0   женат / замужем                 0      F   сотрудник     0  253875.639453   \n",
       "1   женат / замужем                 0      F   сотрудник     0  112080.014102   \n",
       "2   женат / замужем                 0      M   сотрудник     0  145885.952297   \n",
       "3   женат / замужем                 0      M   сотрудник     0  267628.550329   \n",
       "4  гражданский брак                 1      F   пенсионер     0  158616.077870   \n",
       "\n",
       "                      purpose  \n",
       "0               покупка жилья  \n",
       "1     приобретение автомобиля  \n",
       "2               покупка жилья  \n",
       "3  дополнительное образование  \n",
       "4             сыграть свадьбу  "
      ]
     },
     "execution_count": 3,
     "metadata": {},
     "output_type": "execute_result"
    }
   ],
   "source": [
    "data.head()"
   ]
  },
  {
   "cell_type": "code",
   "execution_count": 4,
   "id": "41f89839",
   "metadata": {
    "deletable": false,
    "id": "2b757bca",
    "outputId": "15376089-8dad-46c9-b520-c05248d43158"
   },
   "outputs": [
    {
     "name": "stdout",
     "output_type": "stream",
     "text": [
      "<class 'pandas.core.frame.DataFrame'>\n",
      "RangeIndex: 21525 entries, 0 to 21524\n",
      "Data columns (total 12 columns):\n",
      " #   Column            Non-Null Count  Dtype  \n",
      "---  ------            --------------  -----  \n",
      " 0   children          21525 non-null  int64  \n",
      " 1   days_employed     19351 non-null  float64\n",
      " 2   dob_years         21525 non-null  int64  \n",
      " 3   education         21525 non-null  object \n",
      " 4   education_id      21525 non-null  int64  \n",
      " 5   family_status     21525 non-null  object \n",
      " 6   family_status_id  21525 non-null  int64  \n",
      " 7   gender            21525 non-null  object \n",
      " 8   income_type       21525 non-null  object \n",
      " 9   debt              21525 non-null  int64  \n",
      " 10  total_income      19351 non-null  float64\n",
      " 11  purpose           21525 non-null  object \n",
      "dtypes: float64(2), int64(5), object(5)\n",
      "memory usage: 2.0+ MB\n"
     ]
    }
   ],
   "source": [
    "data.info()"
   ]
  },
  {
   "cell_type": "markdown",
   "id": "d2e21d51",
   "metadata": {
    "deletable": false,
    "editable": false,
    "id": "333ec665"
   },
   "source": [
    "## Предобработка данных"
   ]
  },
  {
   "cell_type": "markdown",
   "id": "762f9028",
   "metadata": {
    "deletable": false,
    "editable": false,
    "id": "02d92d53"
   },
   "source": [
    "### Удаление пропусков"
   ]
  },
  {
   "cell_type": "code",
   "execution_count": 5,
   "id": "ad8b62e0",
   "metadata": {
    "deletable": false,
    "id": "7f9b2309",
    "outputId": "81f4d817-781c-465c-ed15-91ce4446810d"
   },
   "outputs": [
    {
     "data": {
      "text/plain": [
       "children               0\n",
       "days_employed       2174\n",
       "dob_years              0\n",
       "education              0\n",
       "education_id           0\n",
       "family_status          0\n",
       "family_status_id       0\n",
       "gender                 0\n",
       "income_type            0\n",
       "debt                   0\n",
       "total_income        2174\n",
       "purpose                0\n",
       "dtype: int64"
      ]
     },
     "execution_count": 5,
     "metadata": {},
     "output_type": "execute_result"
    }
   ],
   "source": [
    "data.isna().sum()"
   ]
  },
  {
   "cell_type": "markdown",
   "id": "81d6d7a4",
   "metadata": {
    "deletable": false,
    "id": "db86e27b",
    "tags": []
   },
   "source": [
    "В двух столбцах есть пропущенные значения. Один из них — `days_employed`. Пропуски в этом столбце мы обработаем на следующем этапе. Другой столбец с пропущенными значениями — `total_income` — хранит данные о доходах. На сумму дохода сильнее всего влияет тип занятости, поэтому заполним пропуски в этом столбце медианным значением по каждому типу из столбца `income_type`."
   ]
  },
  {
   "cell_type": "code",
   "execution_count": 6,
   "id": "1c70ddba",
   "metadata": {
    "deletable": false,
    "id": "42006a93"
   },
   "outputs": [],
   "source": [
    "for t in data['income_type'].unique():\n",
    "    data.loc[(data['income_type'] == t) & (data['total_income'].isna()), 'total_income'] = \\\n",
    "    data.loc[(data['income_type'] == t), 'total_income'].median()"
   ]
  },
  {
   "cell_type": "markdown",
   "id": "c88e105a",
   "metadata": {
    "deletable": false,
    "editable": false,
    "id": "89da5ece"
   },
   "source": [
    "### Обработка аномальных значений"
   ]
  },
  {
   "cell_type": "code",
   "execution_count": 7,
   "id": "69ac1eb3",
   "metadata": {
    "deletable": false,
    "id": "f6f055bf"
   },
   "outputs": [],
   "source": [
    "data['days_employed'] = data['days_employed'].abs()"
   ]
  },
  {
   "cell_type": "code",
   "execution_count": 8,
   "id": "497faaf9",
   "metadata": {
    "deletable": false,
    "id": "85a5faf6",
    "outputId": "801ef80e-522b-4668-f34e-565af7432bcf"
   },
   "outputs": [
    {
     "data": {
      "text/plain": [
       "income_type\n",
       "безработный        366413.652744\n",
       "в декрете            3296.759962\n",
       "госслужащий          2689.368353\n",
       "компаньон            1547.382223\n",
       "пенсионер          365213.306266\n",
       "предприниматель       520.848083\n",
       "сотрудник            1574.202821\n",
       "студент               578.751554\n",
       "Name: days_employed, dtype: float64"
      ]
     },
     "execution_count": 8,
     "metadata": {},
     "output_type": "execute_result"
    }
   ],
   "source": [
    "data.groupby('income_type')['days_employed'].agg('median')"
   ]
  },
  {
   "cell_type": "markdown",
   "id": "df7d5465",
   "metadata": {
    "deletable": false,
    "id": "38d1a030",
    "tags": []
   },
   "source": [
    "У двух типов (безработные и пенсионеры) получатся аномально большие значения. Оставим данные без изменений, этот столбец не понадобится для исследования."
   ]
  },
  {
   "cell_type": "code",
   "execution_count": 9,
   "id": "4673a8fe",
   "metadata": {
    "deletable": false,
    "id": "ef5056eb",
    "outputId": "6975b15c-7f95-4697-d16d-a0c79b657b03"
   },
   "outputs": [
    {
     "data": {
      "text/plain": [
       "array([ 1,  0,  3,  2, -1,  4, 20,  5])"
      ]
     },
     "execution_count": 9,
     "metadata": {},
     "output_type": "execute_result"
    }
   ],
   "source": [
    "data['children'].unique()"
   ]
  },
  {
   "cell_type": "code",
   "execution_count": 10,
   "id": "db28e71e",
   "metadata": {
    "deletable": false,
    "id": "3ff9801d"
   },
   "outputs": [],
   "source": [
    "data = data[(data['children'] != -1) & (data['children'] != 20)]"
   ]
  },
  {
   "cell_type": "code",
   "execution_count": 11,
   "id": "5e4e79f1",
   "metadata": {
    "deletable": false,
    "id": "ad4fa8b7",
    "outputId": "b2097101-d49d-44d9-901b-32a65c9463d1"
   },
   "outputs": [
    {
     "data": {
      "text/plain": [
       "array([1, 0, 3, 2, 4, 5])"
      ]
     },
     "execution_count": 11,
     "metadata": {},
     "output_type": "execute_result"
    }
   ],
   "source": [
    "data['children'].unique()"
   ]
  },
  {
   "cell_type": "code",
   "execution_count": 12,
   "id": "1349af28",
   "metadata": {
    "deletable": false,
    "id": "af6b1a7e"
   },
   "outputs": [],
   "source": [
    "for t in data['income_type'].unique():\n",
    "    data.loc[(data['income_type'] == t) & (data['days_employed'].isna()), 'days_employed'] = \\\n",
    "    data.loc[(data['income_type'] == t), 'days_employed'].median()"
   ]
  },
  {
   "cell_type": "code",
   "execution_count": 13,
   "id": "cca97907",
   "metadata": {
    "deletable": false,
    "id": "55f78bc2",
    "outputId": "8da1e4e1-358e-4e87-98c9-f261bce0a7b2"
   },
   "outputs": [
    {
     "data": {
      "text/plain": [
       "children            0\n",
       "days_employed       0\n",
       "dob_years           0\n",
       "education           0\n",
       "education_id        0\n",
       "family_status       0\n",
       "family_status_id    0\n",
       "gender              0\n",
       "income_type         0\n",
       "debt                0\n",
       "total_income        0\n",
       "purpose             0\n",
       "dtype: int64"
      ]
     },
     "execution_count": 13,
     "metadata": {},
     "output_type": "execute_result"
    }
   ],
   "source": [
    "data.isna().sum()"
   ]
  },
  {
   "cell_type": "markdown",
   "id": "f9432b8b",
   "metadata": {
    "deletable": false,
    "editable": false,
    "id": "ddc81e43"
   },
   "source": [
    "### Изменение типов данных"
   ]
  },
  {
   "cell_type": "code",
   "execution_count": 14,
   "id": "a36e0946",
   "metadata": {
    "deletable": false,
    "id": "920b65ad"
   },
   "outputs": [],
   "source": [
    "data['total_income'] = data['total_income'].astype(int)"
   ]
  },
  {
   "cell_type": "markdown",
   "id": "8f1a1fd4",
   "metadata": {
    "deletable": false,
    "editable": false,
    "id": "80c420ba"
   },
   "source": [
    "### Обработка дубликатов"
   ]
  },
  {
   "cell_type": "code",
   "execution_count": 15,
   "id": "a9a1fe1a",
   "metadata": {
    "deletable": false
   },
   "outputs": [],
   "source": [
    "data['education'] = data['education'].str.lower()"
   ]
  },
  {
   "cell_type": "code",
   "execution_count": 16,
   "id": "9fb0b7eb",
   "metadata": {
    "deletable": false,
    "id": "3ee445e4",
    "outputId": "9684deba-1934-42d1-99e1-cda61740f822"
   },
   "outputs": [
    {
     "data": {
      "text/plain": [
       "71"
      ]
     },
     "execution_count": 16,
     "metadata": {},
     "output_type": "execute_result"
    }
   ],
   "source": [
    "data.duplicated().sum()"
   ]
  },
  {
   "cell_type": "code",
   "execution_count": 17,
   "id": "b65cff7d",
   "metadata": {
    "deletable": false,
    "id": "8575fe05"
   },
   "outputs": [],
   "source": [
    "data = data.drop_duplicates()"
   ]
  },
  {
   "cell_type": "markdown",
   "id": "a7a7fb8b",
   "metadata": {
    "deletable": false,
    "editable": false,
    "id": "9904cf55"
   },
   "source": [
    "### Категоризация данных"
   ]
  },
  {
   "cell_type": "code",
   "execution_count": 18,
   "id": "834fa525",
   "metadata": {
    "deletable": false,
    "id": "e1771346"
   },
   "outputs": [],
   "source": [
    "def categorize_income(income):\n",
    "    try:\n",
    "        if 0 <= income <= 30000:\n",
    "            return 'E'\n",
    "        elif 30001 <= income <= 50000:\n",
    "            return 'D'\n",
    "        elif 50001 <= income <= 200000:\n",
    "            return 'C'\n",
    "        elif 200001 <= income <= 1000000:\n",
    "            return 'B'\n",
    "        elif income >= 1000001:\n",
    "            return 'A'\n",
    "    except:\n",
    "        pass"
   ]
  },
  {
   "cell_type": "code",
   "execution_count": 19,
   "id": "f1adbdd5",
   "metadata": {
    "deletable": false,
    "id": "d5f3586d"
   },
   "outputs": [],
   "source": [
    "data['total_income_category'] = data['total_income'].apply(categorize_income)"
   ]
  },
  {
   "cell_type": "code",
   "execution_count": 20,
   "id": "e777b116",
   "metadata": {
    "deletable": false,
    "id": "f67ce9b3",
    "outputId": "673c12d9-7d7e-4ae0-9812-c622c89dd244"
   },
   "outputs": [
    {
     "data": {
      "text/plain": [
       "array(['покупка жилья', 'приобретение автомобиля',\n",
       "       'дополнительное образование', 'сыграть свадьбу',\n",
       "       'операции с жильем', 'образование', 'на проведение свадьбы',\n",
       "       'покупка жилья для семьи', 'покупка недвижимости',\n",
       "       'покупка коммерческой недвижимости', 'покупка жилой недвижимости',\n",
       "       'строительство собственной недвижимости', 'недвижимость',\n",
       "       'строительство недвижимости', 'на покупку подержанного автомобиля',\n",
       "       'на покупку своего автомобиля',\n",
       "       'операции с коммерческой недвижимостью',\n",
       "       'строительство жилой недвижимости', 'жилье',\n",
       "       'операции со своей недвижимостью', 'автомобили',\n",
       "       'заняться образованием', 'сделка с подержанным автомобилем',\n",
       "       'получение образования', 'автомобиль', 'свадьба',\n",
       "       'получение дополнительного образования', 'покупка своего жилья',\n",
       "       'операции с недвижимостью', 'получение высшего образования',\n",
       "       'свой автомобиль', 'сделка с автомобилем',\n",
       "       'профильное образование', 'высшее образование',\n",
       "       'покупка жилья для сдачи', 'на покупку автомобиля', 'ремонт жилью',\n",
       "       'заняться высшим образованием'], dtype=object)"
      ]
     },
     "execution_count": 20,
     "metadata": {},
     "output_type": "execute_result"
    }
   ],
   "source": [
    "data['purpose'].unique()"
   ]
  },
  {
   "cell_type": "code",
   "execution_count": 21,
   "id": "ca6a845a",
   "metadata": {
    "deletable": false,
    "id": "e149fab4"
   },
   "outputs": [],
   "source": [
    "def categorize_purpose(row):\n",
    "    try:\n",
    "        if 'автом' in row:\n",
    "            return 'операции с автомобилем'\n",
    "        elif 'жил' in row or 'недвиж' in row:\n",
    "            return 'операции с недвижимостью'\n",
    "        elif 'свад' in row:\n",
    "            return 'проведение свадьбы'\n",
    "        elif 'образов' in row:\n",
    "            return 'получение образования'\n",
    "    except:\n",
    "        return 'нет категории'"
   ]
  },
  {
   "cell_type": "code",
   "execution_count": 22,
   "id": "013d3859",
   "metadata": {
    "deletable": false,
    "id": "bf36e69b"
   },
   "outputs": [
    {
     "data": {
      "text/html": [
       "<div>\n",
       "<style scoped>\n",
       "    .dataframe tbody tr th:only-of-type {\n",
       "        vertical-align: middle;\n",
       "    }\n",
       "\n",
       "    .dataframe tbody tr th {\n",
       "        vertical-align: top;\n",
       "    }\n",
       "\n",
       "    .dataframe thead th {\n",
       "        text-align: right;\n",
       "    }\n",
       "</style>\n",
       "<table border=\"1\" class=\"dataframe\">\n",
       "  <thead>\n",
       "    <tr style=\"text-align: right;\">\n",
       "      <th></th>\n",
       "      <th>children</th>\n",
       "      <th>days_employed</th>\n",
       "      <th>dob_years</th>\n",
       "      <th>education</th>\n",
       "      <th>education_id</th>\n",
       "      <th>family_status</th>\n",
       "      <th>family_status_id</th>\n",
       "      <th>gender</th>\n",
       "      <th>income_type</th>\n",
       "      <th>debt</th>\n",
       "      <th>total_income</th>\n",
       "      <th>purpose</th>\n",
       "      <th>total_income_category</th>\n",
       "      <th>purpose_category</th>\n",
       "    </tr>\n",
       "  </thead>\n",
       "  <tbody>\n",
       "    <tr>\n",
       "      <th>0</th>\n",
       "      <td>1</td>\n",
       "      <td>8437.673028</td>\n",
       "      <td>42</td>\n",
       "      <td>высшее</td>\n",
       "      <td>0</td>\n",
       "      <td>женат / замужем</td>\n",
       "      <td>0</td>\n",
       "      <td>F</td>\n",
       "      <td>сотрудник</td>\n",
       "      <td>0</td>\n",
       "      <td>253875</td>\n",
       "      <td>покупка жилья</td>\n",
       "      <td>B</td>\n",
       "      <td>операции с недвижимостью</td>\n",
       "    </tr>\n",
       "    <tr>\n",
       "      <th>1</th>\n",
       "      <td>1</td>\n",
       "      <td>4024.803754</td>\n",
       "      <td>36</td>\n",
       "      <td>среднее</td>\n",
       "      <td>1</td>\n",
       "      <td>женат / замужем</td>\n",
       "      <td>0</td>\n",
       "      <td>F</td>\n",
       "      <td>сотрудник</td>\n",
       "      <td>0</td>\n",
       "      <td>112080</td>\n",
       "      <td>приобретение автомобиля</td>\n",
       "      <td>C</td>\n",
       "      <td>операции с автомобилем</td>\n",
       "    </tr>\n",
       "    <tr>\n",
       "      <th>2</th>\n",
       "      <td>0</td>\n",
       "      <td>5623.422610</td>\n",
       "      <td>33</td>\n",
       "      <td>среднее</td>\n",
       "      <td>1</td>\n",
       "      <td>женат / замужем</td>\n",
       "      <td>0</td>\n",
       "      <td>M</td>\n",
       "      <td>сотрудник</td>\n",
       "      <td>0</td>\n",
       "      <td>145885</td>\n",
       "      <td>покупка жилья</td>\n",
       "      <td>C</td>\n",
       "      <td>операции с недвижимостью</td>\n",
       "    </tr>\n",
       "    <tr>\n",
       "      <th>3</th>\n",
       "      <td>3</td>\n",
       "      <td>4124.747207</td>\n",
       "      <td>32</td>\n",
       "      <td>среднее</td>\n",
       "      <td>1</td>\n",
       "      <td>женат / замужем</td>\n",
       "      <td>0</td>\n",
       "      <td>M</td>\n",
       "      <td>сотрудник</td>\n",
       "      <td>0</td>\n",
       "      <td>267628</td>\n",
       "      <td>дополнительное образование</td>\n",
       "      <td>B</td>\n",
       "      <td>получение образования</td>\n",
       "    </tr>\n",
       "    <tr>\n",
       "      <th>4</th>\n",
       "      <td>0</td>\n",
       "      <td>340266.072047</td>\n",
       "      <td>53</td>\n",
       "      <td>среднее</td>\n",
       "      <td>1</td>\n",
       "      <td>гражданский брак</td>\n",
       "      <td>1</td>\n",
       "      <td>F</td>\n",
       "      <td>пенсионер</td>\n",
       "      <td>0</td>\n",
       "      <td>158616</td>\n",
       "      <td>сыграть свадьбу</td>\n",
       "      <td>C</td>\n",
       "      <td>проведение свадьбы</td>\n",
       "    </tr>\n",
       "  </tbody>\n",
       "</table>\n",
       "</div>"
      ],
      "text/plain": [
       "   children  days_employed  dob_years education  education_id  \\\n",
       "0         1    8437.673028         42    высшее             0   \n",
       "1         1    4024.803754         36   среднее             1   \n",
       "2         0    5623.422610         33   среднее             1   \n",
       "3         3    4124.747207         32   среднее             1   \n",
       "4         0  340266.072047         53   среднее             1   \n",
       "\n",
       "      family_status  family_status_id gender income_type  debt  total_income  \\\n",
       "0   женат / замужем                 0      F   сотрудник     0        253875   \n",
       "1   женат / замужем                 0      F   сотрудник     0        112080   \n",
       "2   женат / замужем                 0      M   сотрудник     0        145885   \n",
       "3   женат / замужем                 0      M   сотрудник     0        267628   \n",
       "4  гражданский брак                 1      F   пенсионер     0        158616   \n",
       "\n",
       "                      purpose total_income_category          purpose_category  \n",
       "0               покупка жилья                     B  операции с недвижимостью  \n",
       "1     приобретение автомобиля                     C    операции с автомобилем  \n",
       "2               покупка жилья                     C  операции с недвижимостью  \n",
       "3  дополнительное образование                     B     получение образования  \n",
       "4             сыграть свадьбу                     C        проведение свадьбы  "
      ]
     },
     "execution_count": 22,
     "metadata": {},
     "output_type": "execute_result"
    }
   ],
   "source": [
    "data['purpose_category'] = data['purpose'].apply(categorize_purpose)\n",
    "data.head()"
   ]
  },
  {
   "cell_type": "markdown",
   "id": "2f1bc486",
   "metadata": {
    "deletable": false,
    "id": "09b242bf",
    "tags": []
   },
   "source": [
    "### Исследуем данные и ответим на вопросы"
   ]
  },
  {
   "cell_type": "markdown",
   "id": "66b482b9",
   "metadata": {
    "deletable": false,
    "id": "c5d66278",
    "tags": []
   },
   "source": [
    "#### Есть ли зависимость между количеством детей и возвратом кредита в срок?"
   ]
  },
  {
   "cell_type": "markdown",
   "id": "aefac478",
   "metadata": {},
   "source": [
    "Исследуем зависимость между количеством детей и возвратом кредита в срок. Сгруппируем данные по количеству детей и посчитаем количество клиентов, количество должников и долю должников для каждой категории."
   ]
  },
  {
   "cell_type": "code",
   "execution_count": 23,
   "id": "e6c77c56",
   "metadata": {
    "deletable": false,
    "id": "2cacfc4a"
   },
   "outputs": [
    {
     "data": {
      "text/html": [
       "<div>\n",
       "<style scoped>\n",
       "    .dataframe tbody tr th:only-of-type {\n",
       "        vertical-align: middle;\n",
       "    }\n",
       "\n",
       "    .dataframe tbody tr th {\n",
       "        vertical-align: top;\n",
       "    }\n",
       "\n",
       "    .dataframe thead tr th {\n",
       "        text-align: left;\n",
       "    }\n",
       "\n",
       "    .dataframe thead tr:last-of-type th {\n",
       "        text-align: right;\n",
       "    }\n",
       "</style>\n",
       "<table border=\"1\" class=\"dataframe\">\n",
       "  <thead>\n",
       "    <tr>\n",
       "      <th></th>\n",
       "      <th>count</th>\n",
       "      <th>sum</th>\n",
       "      <th>mean</th>\n",
       "    </tr>\n",
       "    <tr>\n",
       "      <th></th>\n",
       "      <th>debt</th>\n",
       "      <th>debt</th>\n",
       "      <th>debt</th>\n",
       "    </tr>\n",
       "    <tr>\n",
       "      <th>children</th>\n",
       "      <th></th>\n",
       "      <th></th>\n",
       "      <th></th>\n",
       "    </tr>\n",
       "  </thead>\n",
       "  <tbody>\n",
       "    <tr>\n",
       "      <th>0</th>\n",
       "      <td>14091</td>\n",
       "      <td>1063</td>\n",
       "      <td>0.075438</td>\n",
       "    </tr>\n",
       "    <tr>\n",
       "      <th>1</th>\n",
       "      <td>4808</td>\n",
       "      <td>444</td>\n",
       "      <td>0.092346</td>\n",
       "    </tr>\n",
       "    <tr>\n",
       "      <th>2</th>\n",
       "      <td>2052</td>\n",
       "      <td>194</td>\n",
       "      <td>0.094542</td>\n",
       "    </tr>\n",
       "    <tr>\n",
       "      <th>3</th>\n",
       "      <td>330</td>\n",
       "      <td>27</td>\n",
       "      <td>0.081818</td>\n",
       "    </tr>\n",
       "    <tr>\n",
       "      <th>4</th>\n",
       "      <td>41</td>\n",
       "      <td>4</td>\n",
       "      <td>0.097561</td>\n",
       "    </tr>\n",
       "    <tr>\n",
       "      <th>5</th>\n",
       "      <td>9</td>\n",
       "      <td>0</td>\n",
       "      <td>0.000000</td>\n",
       "    </tr>\n",
       "  </tbody>\n",
       "</table>\n",
       "</div>"
      ],
      "text/plain": [
       "          count   sum      mean\n",
       "           debt  debt      debt\n",
       "children                       \n",
       "0         14091  1063  0.075438\n",
       "1          4808   444  0.092346\n",
       "2          2052   194  0.094542\n",
       "3           330    27  0.081818\n",
       "4            41     4  0.097561\n",
       "5             9     0  0.000000"
      ]
     },
     "execution_count": 23,
     "metadata": {},
     "output_type": "execute_result"
    }
   ],
   "source": [
    "data_pivot = data.pivot_table(index=['children'], values='debt', aggfunc=['count', 'sum', 'mean'])\n",
    "data_pivot"
   ]
  },
  {
   "cell_type": "markdown",
   "id": "c054c404-c728-4482-82ce-2d549c99b721",
   "metadata": {
    "id": "3a6b99ec",
    "tags": []
   },
   "source": [
    "**Вывод:** видна зависимость возврата кредита в срок от количества детей. Среди клиентов с двумя детьми примерно 9.5% должников, среди клиентов с одним ребенком - 9.2%. Меньше всего задержек по выплате кредита среди бездетных клиентов, доля дожников в этой категории всего 7.5%.\n",
    "\n",
    "Кредитополучатели без детей являются более ответственными, чем клиенты, у которых есть дети. Видимо, наличие ребенка накладывает на клиента дополнительное финансовое бремя, и клиенты либо менее ответственно относятся к своим кредитным обязательствам, либо не имеют возможности оплачивать в срок.\n",
    "\n",
    "Для более точных выводов не хватает данных по клиентам с тремя и более детьми. Выборка не сбалансирована, классы в выборке имеют разные размеры."
   ]
  },
  {
   "cell_type": "markdown",
   "id": "7da7a641-bcad-4d6c-9559-b76f11362d24",
   "metadata": {},
   "source": [
    "#### Падает ли количество кредитов в зависимости от количества детей у заёмщика?"
   ]
  },
  {
   "cell_type": "code",
   "execution_count": 24,
   "id": "979db4c1-e5f3-4a42-a07d-6a11462e3e2d",
   "metadata": {
    "id": "d3dc8bb9",
    "outputId": "b30777e7-9cc8-46f5-c36f-4e67e0ca434d"
   },
   "outputs": [
    {
     "data": {
      "image/png": "[encoded data removed]",
      "text/plain": [
       "<Figure size 1000x400 with 1 Axes>"
      ]
     },
     "metadata": {},
     "output_type": "display_data"
    }
   ],
   "source": [
    "data_ch = data.groupby('children')[['children']].count()\n",
    "sns.set_style('whitegrid')\n",
    "plt.figure(figsize=(10, 4))\n",
    "sns.lineplot(x=data_ch.index, y='children', data=data_ch, marker='D')\n",
    "plt.title('График зависимости количества кредитов от количества детей')\n",
    "plt.xlabel('Количество детей')\n",
    "plt.ylabel('Количество кредитов')\n",
    "plt.show()"
   ]
  },
  {
   "cell_type": "markdown",
   "id": "6a08f6fd-5564-4c17-a151-f58a039c7539",
   "metadata": {
    "id": "25b2e120"
   },
   "source": [
    "**Вывод:** из графика видно видно, как падает число выданных кредитов в зависимости от числа детей в семье заёмщика. Возможно, это не связано с тем, что многодетные семьи реже берут кредиты. Скорее всего, семей без детей или с 1–2 детьми намного больше, чем многодетных. В таком случае стоит рассматривать относительные величины."
   ]
  },
  {
   "cell_type": "markdown",
   "id": "14e97d37",
   "metadata": {
    "deletable": false,
    "id": "97be82ca",
    "tags": []
   },
   "source": [
    "#### Есть ли зависимость между семейным положением и возвратом кредита в срок?"
   ]
  },
  {
   "cell_type": "markdown",
   "id": "8213406d",
   "metadata": {},
   "source": [
    "Исследуем зависимость возврата кредита в срок от семейного положения. Для этого сгруппируем данные по семейному положению и посчитаем количество клиентов, количество должников и долю должников для каждой категории."
   ]
  },
  {
   "cell_type": "code",
   "execution_count": 25,
   "id": "9a692378",
   "metadata": {
    "deletable": false,
    "id": "dc3f7ee8"
   },
   "outputs": [
    {
     "data": {
      "text/html": [
       "<div>\n",
       "<style scoped>\n",
       "    .dataframe tbody tr th:only-of-type {\n",
       "        vertical-align: middle;\n",
       "    }\n",
       "\n",
       "    .dataframe tbody tr th {\n",
       "        vertical-align: top;\n",
       "    }\n",
       "\n",
       "    .dataframe thead tr th {\n",
       "        text-align: left;\n",
       "    }\n",
       "\n",
       "    .dataframe thead tr:last-of-type th {\n",
       "        text-align: right;\n",
       "    }\n",
       "</style>\n",
       "<table border=\"1\" class=\"dataframe\">\n",
       "  <thead>\n",
       "    <tr>\n",
       "      <th></th>\n",
       "      <th>count</th>\n",
       "      <th>sum</th>\n",
       "      <th>mean</th>\n",
       "    </tr>\n",
       "    <tr>\n",
       "      <th></th>\n",
       "      <th>debt</th>\n",
       "      <th>debt</th>\n",
       "      <th>debt</th>\n",
       "    </tr>\n",
       "    <tr>\n",
       "      <th>family_status</th>\n",
       "      <th></th>\n",
       "      <th></th>\n",
       "      <th></th>\n",
       "    </tr>\n",
       "  </thead>\n",
       "  <tbody>\n",
       "    <tr>\n",
       "      <th>Не женат / не замужем</th>\n",
       "      <td>2796</td>\n",
       "      <td>273</td>\n",
       "      <td>0.097639</td>\n",
       "    </tr>\n",
       "    <tr>\n",
       "      <th>в разводе</th>\n",
       "      <td>1189</td>\n",
       "      <td>84</td>\n",
       "      <td>0.070648</td>\n",
       "    </tr>\n",
       "    <tr>\n",
       "      <th>вдовец / вдова</th>\n",
       "      <td>951</td>\n",
       "      <td>63</td>\n",
       "      <td>0.066246</td>\n",
       "    </tr>\n",
       "    <tr>\n",
       "      <th>гражданский брак</th>\n",
       "      <td>4134</td>\n",
       "      <td>385</td>\n",
       "      <td>0.093130</td>\n",
       "    </tr>\n",
       "    <tr>\n",
       "      <th>женат / замужем</th>\n",
       "      <td>12261</td>\n",
       "      <td>927</td>\n",
       "      <td>0.075606</td>\n",
       "    </tr>\n",
       "  </tbody>\n",
       "</table>\n",
       "</div>"
      ],
      "text/plain": [
       "                       count  sum      mean\n",
       "                        debt debt      debt\n",
       "family_status                              \n",
       "Не женат / не замужем   2796  273  0.097639\n",
       "в разводе               1189   84  0.070648\n",
       "вдовец / вдова           951   63  0.066246\n",
       "гражданский брак        4134  385  0.093130\n",
       "женат / замужем        12261  927  0.075606"
      ]
     },
     "execution_count": 25,
     "metadata": {},
     "output_type": "execute_result"
    }
   ],
   "source": [
    "data_pivot = data.pivot_table(index=['family_status'], values='debt', aggfunc= ['count', 'sum', 'mean'])\n",
    "data_pivot"
   ]
  },
  {
   "cell_type": "markdown",
   "id": "4999b3bd",
   "metadata": {
    "deletable": false,
    "id": "1cef7837"
   },
   "source": [
    "**Вывод:** прослеживается зависимость возврата кредита в срок от семейного положения. \n",
    "Так неженатые/незамужние клиенты и клиенты, находящиеся в гражданском браке чаще других задерживают выплаты по кредитам, на них приходится 9.8% и 9.3% задолженностей соответственно.\n",
    "Женатые/замужние клиенты, клиенты в разводе и вдовы/вдовцы менее вероятно становятся должниками, на них приходится 7.5%, 7% и 6.6% соответственно.\n",
    "\n",
    "Кредитному отделу следует с осторожностью относиться к клиентам, которые не состоят или не состояли в браке. Согласно данным такие клиенты менее ответственные."
   ]
  },
  {
   "cell_type": "markdown",
   "id": "0c652918-61e1-410e-a0ff-f894eb91b613",
   "metadata": {
    "id": "99ecbd1f",
    "tags": []
   },
   "source": [
    "#### Как разные цели кредита влияют на его возврат в срок?"
   ]
  },
  {
   "cell_type": "markdown",
   "id": "7351f9cb-12a4-4bbe-bd28-ff1690c9a9bd",
   "metadata": {},
   "source": [
    "Чтобы понять, как разные цели влияют на возврат кредита в срок, сгруппируем данные по целям кредита и рассчитаем количество кредитов, количество должников и долю должников для каждой группы."
   ]
  },
  {
   "cell_type": "code",
   "execution_count": 26,
   "id": "df4495d6-dfea-466c-8de7-78e449d6763d",
   "metadata": {
    "id": "2b687290",
    "tags": []
   },
   "outputs": [
    {
     "data": {
      "text/html": [
       "<div>\n",
       "<style scoped>\n",
       "    .dataframe tbody tr th:only-of-type {\n",
       "        vertical-align: middle;\n",
       "    }\n",
       "\n",
       "    .dataframe tbody tr th {\n",
       "        vertical-align: top;\n",
       "    }\n",
       "\n",
       "    .dataframe thead tr th {\n",
       "        text-align: left;\n",
       "    }\n",
       "\n",
       "    .dataframe thead tr:last-of-type th {\n",
       "        text-align: right;\n",
       "    }\n",
       "</style>\n",
       "<table border=\"1\" class=\"dataframe\">\n",
       "  <thead>\n",
       "    <tr>\n",
       "      <th></th>\n",
       "      <th>count</th>\n",
       "      <th>sum</th>\n",
       "      <th>mean</th>\n",
       "    </tr>\n",
       "    <tr>\n",
       "      <th></th>\n",
       "      <th>debt</th>\n",
       "      <th>debt</th>\n",
       "      <th>debt</th>\n",
       "    </tr>\n",
       "    <tr>\n",
       "      <th>purpose_category</th>\n",
       "      <th></th>\n",
       "      <th></th>\n",
       "      <th></th>\n",
       "    </tr>\n",
       "  </thead>\n",
       "  <tbody>\n",
       "    <tr>\n",
       "      <th>операции с автомобилем</th>\n",
       "      <td>4279</td>\n",
       "      <td>400</td>\n",
       "      <td>0.093480</td>\n",
       "    </tr>\n",
       "    <tr>\n",
       "      <th>операции с недвижимостью</th>\n",
       "      <td>10751</td>\n",
       "      <td>780</td>\n",
       "      <td>0.072551</td>\n",
       "    </tr>\n",
       "    <tr>\n",
       "      <th>получение образования</th>\n",
       "      <td>3988</td>\n",
       "      <td>369</td>\n",
       "      <td>0.092528</td>\n",
       "    </tr>\n",
       "    <tr>\n",
       "      <th>проведение свадьбы</th>\n",
       "      <td>2313</td>\n",
       "      <td>183</td>\n",
       "      <td>0.079118</td>\n",
       "    </tr>\n",
       "  </tbody>\n",
       "</table>\n",
       "</div>"
      ],
      "text/plain": [
       "                          count  sum      mean\n",
       "                           debt debt      debt\n",
       "purpose_category                              \n",
       "операции с автомобилем     4279  400  0.093480\n",
       "операции с недвижимостью  10751  780  0.072551\n",
       "получение образования      3988  369  0.092528\n",
       "проведение свадьбы         2313  183  0.079118"
      ]
     },
     "execution_count": 26,
     "metadata": {},
     "output_type": "execute_result"
    }
   ],
   "source": [
    "data_pivot = data.pivot_table(index=['purpose_category'], values='debt', aggfunc=['count', 'sum', 'mean'])\n",
    "data_pivot"
   ]
  },
  {
   "cell_type": "markdown",
   "id": "d00def53-b59a-424a-b25d-58e5aec6b1c6",
   "metadata": {
    "id": "b4bb2ce6",
    "tags": []
   },
   "source": [
    "**Вывод:** зависимость прослеживается, однако разница невелика и составляет всего 2%. \n",
    "Так на операции с автомобилем и получение образования приходится 9.3% и 9.3% соответственно.\n",
    "Несущественно ниже доля должников в категориях \"операции с недвижимостью\" и \"проведение свадьбы\" - 7.3% и 7.9% соответственно."
   ]
  },
  {
   "cell_type": "markdown",
   "id": "fbe21d36",
   "metadata": {
    "deletable": false,
    "id": "1e8b2fca",
    "tags": []
   },
   "source": [
    "#### Есть ли зависимость между уровнем дохода и возвратом кредита в срок?"
   ]
  },
  {
   "cell_type": "markdown",
   "id": "757f8b67",
   "metadata": {},
   "source": [
    "Исследуем зависимость возврата кредита в срок от уровня дохода. Для этого сгруппируем данные по уровню дохода и посчитаем количество клиентов, количество должников и долю должников для каждой категории."
   ]
  },
  {
   "cell_type": "code",
   "execution_count": 27,
   "id": "01c84998",
   "metadata": {
    "deletable": false,
    "id": "cd7e3720"
   },
   "outputs": [
    {
     "data": {
      "text/html": [
       "<div>\n",
       "<style scoped>\n",
       "    .dataframe tbody tr th:only-of-type {\n",
       "        vertical-align: middle;\n",
       "    }\n",
       "\n",
       "    .dataframe tbody tr th {\n",
       "        vertical-align: top;\n",
       "    }\n",
       "\n",
       "    .dataframe thead tr th {\n",
       "        text-align: left;\n",
       "    }\n",
       "\n",
       "    .dataframe thead tr:last-of-type th {\n",
       "        text-align: right;\n",
       "    }\n",
       "</style>\n",
       "<table border=\"1\" class=\"dataframe\">\n",
       "  <thead>\n",
       "    <tr>\n",
       "      <th></th>\n",
       "      <th>count</th>\n",
       "      <th>sum</th>\n",
       "      <th>mean</th>\n",
       "    </tr>\n",
       "    <tr>\n",
       "      <th></th>\n",
       "      <th>debt</th>\n",
       "      <th>debt</th>\n",
       "      <th>debt</th>\n",
       "    </tr>\n",
       "    <tr>\n",
       "      <th>total_income_category</th>\n",
       "      <th></th>\n",
       "      <th></th>\n",
       "      <th></th>\n",
       "    </tr>\n",
       "  </thead>\n",
       "  <tbody>\n",
       "    <tr>\n",
       "      <th>A</th>\n",
       "      <td>25</td>\n",
       "      <td>2</td>\n",
       "      <td>0.080000</td>\n",
       "    </tr>\n",
       "    <tr>\n",
       "      <th>B</th>\n",
       "      <td>5014</td>\n",
       "      <td>354</td>\n",
       "      <td>0.070602</td>\n",
       "    </tr>\n",
       "    <tr>\n",
       "      <th>C</th>\n",
       "      <td>15921</td>\n",
       "      <td>1353</td>\n",
       "      <td>0.084982</td>\n",
       "    </tr>\n",
       "    <tr>\n",
       "      <th>D</th>\n",
       "      <td>349</td>\n",
       "      <td>21</td>\n",
       "      <td>0.060172</td>\n",
       "    </tr>\n",
       "    <tr>\n",
       "      <th>E</th>\n",
       "      <td>22</td>\n",
       "      <td>2</td>\n",
       "      <td>0.090909</td>\n",
       "    </tr>\n",
       "  </tbody>\n",
       "</table>\n",
       "</div>"
      ],
      "text/plain": [
       "                       count   sum      mean\n",
       "                        debt  debt      debt\n",
       "total_income_category                       \n",
       "A                         25     2  0.080000\n",
       "B                       5014   354  0.070602\n",
       "C                      15921  1353  0.084982\n",
       "D                        349    21  0.060172\n",
       "E                         22     2  0.090909"
      ]
     },
     "execution_count": 27,
     "metadata": {},
     "output_type": "execute_result"
    }
   ],
   "source": [
    "data_pivot = data.pivot_table(index=['total_income_category'], values='debt', aggfunc=['count', 'sum', 'mean'])\n",
    "data_pivot"
   ]
  },
  {
   "cell_type": "markdown",
   "id": "9195e3dc-a0df-42cc-a5a1-04a366bca775",
   "metadata": {},
   "source": [
    "#### Как изменяются доходы со временем?"
   ]
  },
  {
   "cell_type": "code",
   "execution_count": 28,
   "id": "9a5e3f31",
   "metadata": {
    "id": "9a5e3f31",
    "outputId": "8164eff7-4df9-4188-a239-ce20fc3a7817"
   },
   "outputs": [
    {
     "data": {
      "image/png": "[encoded data removed]",
      "text/plain": [
       "<Figure size 640x480 with 1 Axes>"
      ]
     },
     "metadata": {},
     "output_type": "display_data"
    }
   ],
   "source": [
    "plt.style.use('classic')\n",
    "sns.histplot(x='total_income', data=data, kde=True)\n",
    "plt.xlim(0, 500000)\n",
    "plt.title('Распределение дохода')\n",
    "plt.xlabel('Значение')\n",
    "plt.ylabel('Частота')\n",
    "plt.show()"
   ]
  },
  {
   "cell_type": "markdown",
   "id": "4875500a",
   "metadata": {
    "deletable": false,
    "id": "e8593def"
   },
   "source": [
    "**Вывод:** выборка по заемщикам, как с наименьшим доходом, так и с наибольшим крайне недостаточна для формирования однозначных выводов. \n",
    "\n",
    "Зависимость возврата кредита в срок от уровня дохода подтверждена частично, для более точных выводов необходимо больше информации о клиентах категорий A (от 1 млн руб), D (30-50 тыс руб), E (до 30 тыс руб). \n",
    "Доля должников среди клиентов категории B (доход 200001–1000000 руб) - 7%, категории C (50001 - 200000 руб) - 8,5%.\n"
   ]
  },
  {
   "cell_type": "markdown",
   "id": "24446ae0-3333-478a-803d-487301e9de73",
   "metadata": {},
   "source": [
    "#### Влияет ли образование на уровень дохода и наличие задолженности?"
   ]
  },
  {
   "cell_type": "code",
   "execution_count": 29,
   "id": "03ddbc85-5cee-4a6c-8062-a4046db4396a",
   "metadata": {},
   "outputs": [],
   "source": [
    "# столбец с меткой о задолженности заменяем на более читаемый\n",
    "data['debt'] = data['debt'].apply(lambda x: 'должник' if x == 1 else 'не должник')"
   ]
  },
  {
   "cell_type": "code",
   "execution_count": 30,
   "id": "86491da7-0694-4165-be9d-d6d1000327d4",
   "metadata": {
    "id": "d8f98b53",
    "outputId": "bdda0fd5-00b4-44a6-8670-2e8b562bc111"
   },
   "outputs": [
    {
     "data": {
      "image/png": "[encoded data removed]",
      "text/plain": [
       "<Figure size 800x320 with 1 Axes>"
      ]
     },
     "metadata": {},
     "output_type": "display_data"
    }
   ],
   "source": [
    "data_ed = data.groupby(['education', 'debt'], \\\n",
    "                        as_index = False)[['total_income']].median()\n",
    "sns.set_style('dark')\n",
    "plt.figure(figsize=(10, 4))\n",
    "sns.barplot(x='total_income', y='education', data=data_ed, hue='debt')\n",
    "plt.title('График дохода в зависимости от образования')\n",
    "plt.xlabel('Медианный доход')\n",
    "plt.ylabel('Образование')\n",
    "plt.xticks(rotation=45)\n",
    "plt.legend(loc='lower right', fontsize=10)\n",
    "plt.grid()\n",
    "plt.show()"
   ]
  },
  {
   "cell_type": "markdown",
   "id": "168f26c2-e6e9-4ce4-82f5-8767580eeedf",
   "metadata": {
    "id": "43e356f7"
   },
   "source": [
    "**Вывод**: должниками бывают люди и с высшим, и с начальным образованием. Однако среди людей с учёной степенью должников нет вообще."
   ]
  },
  {
   "cell_type": "markdown",
   "id": "043e37ec-fb38-4480-b6a7-b95ec4822a3f",
   "metadata": {},
   "source": [
    "#### Различается ли общий доход должников и ответственных заёмщиков?"
   ]
  },
  {
   "cell_type": "code",
   "execution_count": 31,
   "id": "768cf842",
   "metadata": {
    "id": "768cf842",
    "outputId": "60a5146b-1b0f-4c12-af30-d35e2e22e9e5"
   },
   "outputs": [
    {
     "data": {
      "image/png": "[encoded data removed]",
      "text/plain": [
       "<Figure size 640x480 with 1 Axes>"
      ]
     },
     "metadata": {},
     "output_type": "display_data"
    }
   ],
   "source": [
    "sns.set_style('darkgrid')\n",
    "sns.violinplot(x='total_income', y='debt', data=data)\n",
    "plt.xlim(0, 500000)\n",
    "plt.title('Распределение дохода в зависимости от наличия задолженности')\n",
    "plt.xlabel('Значение дохода')\n",
    "plt.ylabel(None)\n",
    "plt.show()"
   ]
  },
  {
   "cell_type": "markdown",
   "id": "363f727d-6800-409a-8a37-48eb01110647",
   "metadata": {
    "id": "ccca251f"
   },
   "source": [
    "**Вывод:** распределения похожи. Если доход и различается, то незначительно."
   ]
  },
  {
   "cell_type": "markdown",
   "id": "fa793f3d",
   "metadata": {
    "deletable": false,
    "id": "6db5255a",
    "tags": []
   },
   "source": [
    "### Общий вывод."
   ]
  },
  {
   "cell_type": "markdown",
   "id": "3d7b992e",
   "metadata": {
    "deletable": false,
    "id": "bad65432"
   },
   "source": [
    "На основе данных о статистике платежеспособности клиентов нами был произведен анализ влияния на возврат кредита в срок различных факторов, таких, как семейное положение, количество детей, уровень дохода и цель кредита. Результаты исследования будут учтены при создании системы кредитного скоринга.\n",
    "\n",
    "Для проведения исследования было представлено **4 гипотезы**:\n",
    "- количество детей влияет на платежеспособность клиентов,\n",
    "- семейное положение влияет на платежеспособность клиентов,\n",
    "- уровень дохода влияет на платежеспособность клиентов,\n",
    "- цель кредита влияет на платежеспособность клиентов.\n",
    "\n",
    "**Гипотеза 1** частично подтверждена.\n",
    "Для более точных выводов необходимо больше статистических данных по клиентам с 3, 4 и 5 детьми.\n",
    "\n",
    "- 7.5% - доля просроченных кредитов у клиентов без детей,\n",
    "- 9.2% - доля просроченных кредитов у клиентов с 1 ребенком,\n",
    "- 9.5% - доля просроченных кредитов у клиентов с 2 детьми,\n",
    "\n",
    "Рекомендация: провести дополнительное исследование на большей выборке данных.\n",
    "\n",
    "**Гипотеза 2** подтверждена.\n",
    "\n",
    "- 9.8% и 9.3% - неженатые/незамужние клиенты и клиенты, находящиеся в гражданском браке чаще других задерживают выплаты по кредитам,\n",
    "- 7.5%, 7% и 6.6% - соответственно женатые/замужние клиенты, клиенты в разводе и вдовы/вдовцы менее вероятно становятся должниками.\n",
    "\n",
    "**Гипотеза 3** частично подтверждена.\n",
    "Для более точных выводов необходимо больше информации о клиентах категорий A (от 1 млн руб), D (30-50 тыс руб), E (до 30 тыс руб). \n",
    "\n",
    "- 7% - доля должников среди клиентов категории B (доход 200001–1000000 руб),\n",
    "- 8.5% - доля должников среди клиентов категории C (50001 - 200000 руб).\n",
    "\n",
    "Рекомендация: провести дополнительное исследование на большей выборке данных.\n",
    "\n",
    "**Гипотеза 4** подтверждена.\n",
    "\n",
    "- 9.3% доля просроченных кредитов на операции с автомобилем,\n",
    "- 9.3% доля просроченных кредитов на получение образования,\n",
    "- 7.9% доля просроченных кредитов на проведение свадьбы,\n",
    "- 7.3% доля просроченных кредитов на операции с недвижимостью.\n",
    "\n",
    "Общие рекомендации:\n",
    "- Специалистам по построению модели кредитного скоринга рекомендуется использовать результаты второй и четвертой гипотезы.\n",
    "- Необходимо собрать больше статистических данных для проверки первой и третьей гипотез."
   ]
  }
 ],
 "metadata": {
  "ExecuteTimeLog": [
   {
    "duration": 529,
    "start_time": "2022-10-25T15:45:39.476Z"
   },
   {
    "duration": 23,
    "start_time": "2022-10-25T15:45:40.007Z"
   },
   {
    "duration": 14,
    "start_time": "2022-10-25T15:45:40.032Z"
   },
   {
    "duration": 9,
    "start_time": "2022-10-25T15:45:40.048Z"
   },
   {
    "duration": 53,
    "start_time": "2022-10-25T15:45:40.058Z"
   },
   {
    "duration": 3,
    "start_time": "2022-10-25T15:45:40.113Z"
   },
   {
    "duration": 10,
    "start_time": "2022-10-25T15:45:40.118Z"
   },
   {
    "duration": 4,
    "start_time": "2022-10-25T15:45:40.130Z"
   },
   {
    "duration": 9,
    "start_time": "2022-10-25T15:45:40.136Z"
   },
   {
    "duration": 4,
    "start_time": "2022-10-25T15:45:40.147Z"
   },
   {
    "duration": 60,
    "start_time": "2022-10-25T15:45:40.153Z"
   },
   {
    "duration": 10,
    "start_time": "2022-10-25T15:45:40.214Z"
   },
   {
    "duration": 6,
    "start_time": "2022-10-25T15:45:40.225Z"
   },
   {
    "duration": 13,
    "start_time": "2022-10-25T15:45:40.233Z"
   },
   {
    "duration": 31,
    "start_time": "2022-10-25T15:45:40.248Z"
   },
   {
    "duration": 36,
    "start_time": "2022-10-25T15:45:40.281Z"
   },
   {
    "duration": 4,
    "start_time": "2022-10-25T15:45:40.319Z"
   },
   {
    "duration": 13,
    "start_time": "2022-10-25T15:45:40.324Z"
   },
   {
    "duration": 9,
    "start_time": "2022-10-25T15:45:40.338Z"
   },
   {
    "duration": 3,
    "start_time": "2022-10-25T15:45:40.348Z"
   },
   {
    "duration": 8,
    "start_time": "2022-10-25T15:45:42.584Z"
   },
   {
    "duration": 72,
    "start_time": "2022-10-25T15:58:13.691Z"
   },
   {
    "duration": 15,
    "start_time": "2022-10-25T15:58:13.765Z"
   },
   {
    "duration": 16,
    "start_time": "2022-10-25T15:58:13.781Z"
   },
   {
    "duration": 11,
    "start_time": "2022-10-25T15:58:13.799Z"
   },
   {
    "duration": 30,
    "start_time": "2022-10-25T15:58:13.811Z"
   },
   {
    "duration": 4,
    "start_time": "2022-10-25T15:58:13.843Z"
   },
   {
    "duration": 11,
    "start_time": "2022-10-25T15:58:13.848Z"
   },
   {
    "duration": 4,
    "start_time": "2022-10-25T15:58:13.860Z"
   },
   {
    "duration": 7,
    "start_time": "2022-10-25T15:58:13.865Z"
   },
   {
    "duration": 6,
    "start_time": "2022-10-25T15:58:13.874Z"
   },
   {
    "duration": 28,
    "start_time": "2022-10-25T15:58:13.905Z"
   },
   {
    "duration": 8,
    "start_time": "2022-10-25T15:58:13.935Z"
   },
   {
    "duration": 5,
    "start_time": "2022-10-25T15:58:13.944Z"
   },
   {
    "duration": 11,
    "start_time": "2022-10-25T15:58:13.950Z"
   },
   {
    "duration": 18,
    "start_time": "2022-10-25T15:58:13.962Z"
   },
   {
    "duration": 36,
    "start_time": "2022-10-25T15:58:13.982Z"
   },
   {
    "duration": 3,
    "start_time": "2022-10-25T15:58:14.019Z"
   },
   {
    "duration": 10,
    "start_time": "2022-10-25T15:58:14.024Z"
   },
   {
    "duration": 5,
    "start_time": "2022-10-25T15:58:14.036Z"
   },
   {
    "duration": 3,
    "start_time": "2022-10-25T15:58:14.042Z"
   },
   {
    "duration": 10,
    "start_time": "2022-10-25T15:58:14.046Z"
   },
   {
    "duration": 142,
    "start_time": "2022-10-25T15:58:16.449Z"
   },
   {
    "duration": 23,
    "start_time": "2022-10-25T16:04:26.803Z"
   },
   {
    "duration": 68,
    "start_time": "2022-10-25T16:08:52.060Z"
   },
   {
    "duration": 136,
    "start_time": "2022-10-25T16:09:34.090Z"
   },
   {
    "duration": 158,
    "start_time": "2022-10-25T16:18:41.634Z"
   },
   {
    "duration": 69,
    "start_time": "2022-10-25T16:19:22.471Z"
   },
   {
    "duration": 133,
    "start_time": "2022-10-25T16:19:30.810Z"
   },
   {
    "duration": 19,
    "start_time": "2022-10-25T16:22:53.813Z"
   },
   {
    "duration": 127,
    "start_time": "2022-10-25T16:35:01.715Z"
   },
   {
    "duration": 66,
    "start_time": "2022-10-25T16:35:24.887Z"
   },
   {
    "duration": 13,
    "start_time": "2022-10-25T16:35:24.955Z"
   },
   {
    "duration": 14,
    "start_time": "2022-10-25T16:35:24.969Z"
   },
   {
    "duration": 8,
    "start_time": "2022-10-25T16:35:24.984Z"
   },
   {
    "duration": 35,
    "start_time": "2022-10-25T16:35:24.994Z"
   },
   {
    "duration": 3,
    "start_time": "2022-10-25T16:35:25.030Z"
   },
   {
    "duration": 11,
    "start_time": "2022-10-25T16:35:25.034Z"
   },
   {
    "duration": 4,
    "start_time": "2022-10-25T16:35:25.046Z"
   },
   {
    "duration": 9,
    "start_time": "2022-10-25T16:35:25.051Z"
   },
   {
    "duration": 7,
    "start_time": "2022-10-25T16:35:25.062Z"
   },
   {
    "duration": 52,
    "start_time": "2022-10-25T16:35:25.071Z"
   },
   {
    "duration": 8,
    "start_time": "2022-10-25T16:35:25.124Z"
   },
   {
    "duration": 12,
    "start_time": "2022-10-25T16:35:25.134Z"
   },
   {
    "duration": 10,
    "start_time": "2022-10-25T16:35:25.149Z"
   },
   {
    "duration": 17,
    "start_time": "2022-10-25T16:35:25.161Z"
   },
   {
    "duration": 31,
    "start_time": "2022-10-25T16:35:25.180Z"
   },
   {
    "duration": 3,
    "start_time": "2022-10-25T16:35:25.212Z"
   },
   {
    "duration": 13,
    "start_time": "2022-10-25T16:35:25.217Z"
   },
   {
    "duration": 5,
    "start_time": "2022-10-25T16:35:25.232Z"
   },
   {
    "duration": 11,
    "start_time": "2022-10-25T16:35:25.238Z"
   },
   {
    "duration": 33,
    "start_time": "2022-10-25T16:35:25.251Z"
   },
   {
    "duration": 17,
    "start_time": "2022-10-25T16:35:26.947Z"
   },
   {
    "duration": 20,
    "start_time": "2022-10-25T16:37:16.668Z"
   },
   {
    "duration": 20,
    "start_time": "2022-10-25T16:37:31.223Z"
   },
   {
    "duration": 19,
    "start_time": "2022-10-25T16:38:57.821Z"
   },
   {
    "duration": 139,
    "start_time": "2022-10-25T16:40:56.104Z"
   },
   {
    "duration": 138,
    "start_time": "2022-10-25T16:41:54.212Z"
   },
   {
    "duration": 19,
    "start_time": "2022-10-25T16:44:49.239Z"
   },
   {
    "duration": 18,
    "start_time": "2022-10-25T16:46:39.124Z"
   },
   {
    "duration": 132,
    "start_time": "2022-10-25T16:50:08.448Z"
   },
   {
    "duration": 132,
    "start_time": "2022-10-25T16:51:04.651Z"
   },
   {
    "duration": 124,
    "start_time": "2022-10-25T16:52:11.952Z"
   },
   {
    "duration": 67,
    "start_time": "2022-10-25T16:52:46.473Z"
   },
   {
    "duration": 20,
    "start_time": "2022-10-25T16:52:46.542Z"
   },
   {
    "duration": 16,
    "start_time": "2022-10-25T16:52:46.563Z"
   },
   {
    "duration": 9,
    "start_time": "2022-10-25T16:52:46.580Z"
   },
   {
    "duration": 40,
    "start_time": "2022-10-25T16:52:46.591Z"
   },
   {
    "duration": 3,
    "start_time": "2022-10-25T16:52:46.632Z"
   },
   {
    "duration": 9,
    "start_time": "2022-10-25T16:52:46.637Z"
   },
   {
    "duration": 13,
    "start_time": "2022-10-25T16:52:46.647Z"
   },
   {
    "duration": 9,
    "start_time": "2022-10-25T16:52:46.661Z"
   },
   {
    "duration": 4,
    "start_time": "2022-10-25T16:52:46.672Z"
   },
   {
    "duration": 50,
    "start_time": "2022-10-25T16:52:46.678Z"
   },
   {
    "duration": 8,
    "start_time": "2022-10-25T16:52:46.729Z"
   },
   {
    "duration": 4,
    "start_time": "2022-10-25T16:52:46.738Z"
   },
   {
    "duration": 9,
    "start_time": "2022-10-25T16:52:46.744Z"
   },
   {
    "duration": 17,
    "start_time": "2022-10-25T16:52:46.755Z"
   },
   {
    "duration": 38,
    "start_time": "2022-10-25T16:52:46.773Z"
   },
   {
    "duration": 3,
    "start_time": "2022-10-25T16:52:46.813Z"
   },
   {
    "duration": 10,
    "start_time": "2022-10-25T16:52:46.818Z"
   },
   {
    "duration": 8,
    "start_time": "2022-10-25T16:52:46.830Z"
   },
   {
    "duration": 3,
    "start_time": "2022-10-25T16:52:46.840Z"
   },
   {
    "duration": 27,
    "start_time": "2022-10-25T16:52:46.844Z"
   },
   {
    "duration": 13,
    "start_time": "2022-10-25T16:52:49.048Z"
   },
   {
    "duration": 13,
    "start_time": "2022-10-25T16:53:02.553Z"
   },
   {
    "duration": 13,
    "start_time": "2022-10-25T16:53:21.655Z"
   },
   {
    "duration": 14,
    "start_time": "2022-10-25T16:54:35.670Z"
   },
   {
    "duration": 14,
    "start_time": "2022-10-25T16:54:42.459Z"
   },
   {
    "duration": 12,
    "start_time": "2022-10-25T16:58:59.057Z"
   },
   {
    "duration": 12,
    "start_time": "2022-10-25T16:59:34.380Z"
   },
   {
    "duration": 4,
    "start_time": "2022-10-25T17:01:47.959Z"
   },
   {
    "duration": 5,
    "start_time": "2022-10-25T17:05:17.751Z"
   },
   {
    "duration": 7,
    "start_time": "2022-10-25T17:05:31.016Z"
   },
   {
    "duration": 13,
    "start_time": "2022-10-25T17:10:10.265Z"
   },
   {
    "duration": 13,
    "start_time": "2022-10-25T17:10:31.849Z"
   },
   {
    "duration": 15,
    "start_time": "2022-10-25T17:11:08.722Z"
   },
   {
    "duration": 14,
    "start_time": "2022-10-25T17:17:43.478Z"
   },
   {
    "duration": 16,
    "start_time": "2022-10-25T17:22:30.495Z"
   },
   {
    "duration": 66,
    "start_time": "2022-10-25T18:01:09.093Z"
   },
   {
    "duration": 13,
    "start_time": "2022-10-25T18:01:09.161Z"
   },
   {
    "duration": 17,
    "start_time": "2022-10-25T18:01:09.175Z"
   },
   {
    "duration": 14,
    "start_time": "2022-10-25T18:01:09.194Z"
   },
   {
    "duration": 29,
    "start_time": "2022-10-25T18:01:09.209Z"
   },
   {
    "duration": 3,
    "start_time": "2022-10-25T18:01:09.240Z"
   },
   {
    "duration": 12,
    "start_time": "2022-10-25T18:01:09.244Z"
   },
   {
    "duration": 4,
    "start_time": "2022-10-25T18:01:09.257Z"
   },
   {
    "duration": 6,
    "start_time": "2022-10-25T18:01:09.263Z"
   },
   {
    "duration": 4,
    "start_time": "2022-10-25T18:01:09.271Z"
   },
   {
    "duration": 29,
    "start_time": "2022-10-25T18:01:09.306Z"
   },
   {
    "duration": 8,
    "start_time": "2022-10-25T18:01:09.336Z"
   },
   {
    "duration": 13,
    "start_time": "2022-10-25T18:01:09.346Z"
   },
   {
    "duration": 24,
    "start_time": "2022-10-25T18:01:09.361Z"
   },
   {
    "duration": 22,
    "start_time": "2022-10-25T18:01:09.387Z"
   },
   {
    "duration": 18,
    "start_time": "2022-10-25T18:01:09.410Z"
   },
   {
    "duration": 4,
    "start_time": "2022-10-25T18:01:09.430Z"
   },
   {
    "duration": 11,
    "start_time": "2022-10-25T18:01:09.435Z"
   },
   {
    "duration": 9,
    "start_time": "2022-10-25T18:01:09.447Z"
   },
   {
    "duration": 7,
    "start_time": "2022-10-25T18:01:09.457Z"
   },
   {
    "duration": 51,
    "start_time": "2022-10-25T18:01:09.465Z"
   },
   {
    "duration": 15,
    "start_time": "2022-10-25T18:01:09.517Z"
   },
   {
    "duration": 14,
    "start_time": "2022-10-25T18:01:09.533Z"
   },
   {
    "duration": 15,
    "start_time": "2022-10-25T18:01:09.549Z"
   },
   {
    "duration": 41,
    "start_time": "2022-10-25T18:01:09.566Z"
   },
   {
    "duration": 528,
    "start_time": "2022-10-26T08:33:36.446Z"
   },
   {
    "duration": 22,
    "start_time": "2022-10-26T08:33:36.976Z"
   },
   {
    "duration": 15,
    "start_time": "2022-10-26T08:33:37.000Z"
   },
   {
    "duration": 12,
    "start_time": "2022-10-26T08:33:37.017Z"
   },
   {
    "duration": 36,
    "start_time": "2022-10-26T08:33:37.032Z"
   },
   {
    "duration": 3,
    "start_time": "2022-10-26T08:33:37.070Z"
   },
   {
    "duration": 27,
    "start_time": "2022-10-26T08:33:37.074Z"
   },
   {
    "duration": 8,
    "start_time": "2022-10-26T08:33:37.103Z"
   },
   {
    "duration": 37,
    "start_time": "2022-10-26T08:33:37.112Z"
   },
   {
    "duration": 28,
    "start_time": "2022-10-26T08:33:37.150Z"
   },
   {
    "duration": 53,
    "start_time": "2022-10-26T08:33:37.180Z"
   },
   {
    "duration": 9,
    "start_time": "2022-10-26T08:33:37.236Z"
   },
   {
    "duration": 9,
    "start_time": "2022-10-26T08:33:37.247Z"
   },
   {
    "duration": 16,
    "start_time": "2022-10-26T08:33:37.259Z"
   },
   {
    "duration": 38,
    "start_time": "2022-10-26T08:33:37.277Z"
   },
   {
    "duration": 17,
    "start_time": "2022-10-26T08:33:37.316Z"
   },
   {
    "duration": 8,
    "start_time": "2022-10-26T08:33:37.334Z"
   },
   {
    "duration": 19,
    "start_time": "2022-10-26T08:33:37.343Z"
   },
   {
    "duration": 21,
    "start_time": "2022-10-26T08:33:37.363Z"
   },
   {
    "duration": 19,
    "start_time": "2022-10-26T08:33:37.386Z"
   },
   {
    "duration": 34,
    "start_time": "2022-10-26T08:33:37.406Z"
   },
   {
    "duration": 22,
    "start_time": "2022-10-26T08:33:37.442Z"
   },
   {
    "duration": 15,
    "start_time": "2022-10-26T08:33:37.466Z"
   },
   {
    "duration": 15,
    "start_time": "2022-10-26T08:33:37.483Z"
   },
   {
    "duration": 16,
    "start_time": "2022-10-26T08:33:37.509Z"
   },
   {
    "duration": 687,
    "start_time": "2022-10-29T13:26:54.458Z"
   },
   {
    "duration": 19,
    "start_time": "2022-10-29T13:26:55.147Z"
   },
   {
    "duration": 14,
    "start_time": "2022-10-29T13:26:55.168Z"
   },
   {
    "duration": 9,
    "start_time": "2022-10-29T13:26:55.183Z"
   },
   {
    "duration": 43,
    "start_time": "2022-10-29T13:26:55.194Z"
   },
   {
    "duration": 3,
    "start_time": "2022-10-29T13:26:55.239Z"
   },
   {
    "duration": 12,
    "start_time": "2022-10-29T13:26:55.243Z"
   },
   {
    "duration": 4,
    "start_time": "2022-10-29T13:26:55.257Z"
   },
   {
    "duration": 10,
    "start_time": "2022-10-29T13:26:55.262Z"
   },
   {
    "duration": 4,
    "start_time": "2022-10-29T13:26:55.273Z"
   },
   {
    "duration": 54,
    "start_time": "2022-10-29T13:26:55.278Z"
   },
   {
    "duration": 11,
    "start_time": "2022-10-29T13:26:55.334Z"
   },
   {
    "duration": 5,
    "start_time": "2022-10-29T13:26:55.347Z"
   },
   {
    "duration": 13,
    "start_time": "2022-10-29T13:26:55.354Z"
   },
   {
    "duration": 17,
    "start_time": "2022-10-29T13:26:55.369Z"
   },
   {
    "duration": 16,
    "start_time": "2022-10-29T13:26:55.388Z"
   },
   {
    "duration": 27,
    "start_time": "2022-10-29T13:26:55.405Z"
   },
   {
    "duration": 16,
    "start_time": "2022-10-29T13:26:55.434Z"
   },
   {
    "duration": 11,
    "start_time": "2022-10-29T13:26:55.451Z"
   },
   {
    "duration": 3,
    "start_time": "2022-10-29T13:26:55.464Z"
   },
   {
    "duration": 30,
    "start_time": "2022-10-29T13:26:55.468Z"
   },
   {
    "duration": 3,
    "start_time": "2022-10-29T13:27:26.298Z"
   },
   {
    "duration": 32,
    "start_time": "2022-10-29T13:27:56.621Z"
   },
   {
    "duration": 33,
    "start_time": "2022-10-29T13:38:25.399Z"
   },
   {
    "duration": 19,
    "start_time": "2022-10-29T13:50:21.855Z"
   },
   {
    "duration": 25,
    "start_time": "2022-10-29T13:50:57.491Z"
   },
   {
    "duration": 30,
    "start_time": "2022-10-29T13:52:26.917Z"
   },
   {
    "duration": 42,
    "start_time": "2022-10-29T13:54:00.520Z"
   },
   {
    "duration": 26,
    "start_time": "2022-10-29T14:01:50.941Z"
   },
   {
    "duration": 24,
    "start_time": "2022-10-29T14:03:44.745Z"
   },
   {
    "duration": 27,
    "start_time": "2022-10-29T14:11:21.857Z"
   },
   {
    "duration": 23,
    "start_time": "2022-10-29T14:47:07.067Z"
   },
   {
    "duration": 5,
    "start_time": "2022-10-29T14:50:25.145Z"
   },
   {
    "duration": 5,
    "start_time": "2022-10-29T14:50:41.879Z"
   },
   {
    "duration": 21,
    "start_time": "2022-10-29T14:51:17.336Z"
   },
   {
    "duration": 10,
    "start_time": "2022-10-29T14:52:02.669Z"
   },
   {
    "duration": 67,
    "start_time": "2022-10-29T14:52:10.034Z"
   },
   {
    "duration": 9,
    "start_time": "2022-10-29T14:52:12.947Z"
   },
   {
    "duration": 12,
    "start_time": "2022-10-29T14:52:24.882Z"
   },
   {
    "duration": 23,
    "start_time": "2022-10-29T14:53:32.334Z"
   },
   {
    "duration": 86,
    "start_time": "2022-10-29T14:53:59.253Z"
   },
   {
    "duration": 16,
    "start_time": "2022-10-29T14:53:59.341Z"
   },
   {
    "duration": 19,
    "start_time": "2022-10-29T14:53:59.359Z"
   },
   {
    "duration": 18,
    "start_time": "2022-10-29T14:53:59.379Z"
   },
   {
    "duration": 59,
    "start_time": "2022-10-29T14:53:59.399Z"
   },
   {
    "duration": 4,
    "start_time": "2022-10-29T14:53:59.459Z"
   },
   {
    "duration": 12,
    "start_time": "2022-10-29T14:53:59.464Z"
   },
   {
    "duration": 4,
    "start_time": "2022-10-29T14:53:59.478Z"
   },
   {
    "duration": 7,
    "start_time": "2022-10-29T14:53:59.484Z"
   },
   {
    "duration": 4,
    "start_time": "2022-10-29T14:53:59.492Z"
   },
   {
    "duration": 66,
    "start_time": "2022-10-29T14:53:59.497Z"
   },
   {
    "duration": 10,
    "start_time": "2022-10-29T14:53:59.565Z"
   },
   {
    "duration": 4,
    "start_time": "2022-10-29T14:53:59.576Z"
   },
   {
    "duration": 11,
    "start_time": "2022-10-29T14:53:59.582Z"
   },
   {
    "duration": 20,
    "start_time": "2022-10-29T14:53:59.594Z"
   },
   {
    "duration": 27,
    "start_time": "2022-10-29T14:53:59.624Z"
   },
   {
    "duration": 5,
    "start_time": "2022-10-29T14:53:59.652Z"
   },
   {
    "duration": 15,
    "start_time": "2022-10-29T14:53:59.658Z"
   },
   {
    "duration": 5,
    "start_time": "2022-10-29T14:53:59.674Z"
   },
   {
    "duration": 5,
    "start_time": "2022-10-29T14:53:59.681Z"
   },
   {
    "duration": 59,
    "start_time": "2022-10-29T14:53:59.687Z"
   },
   {
    "duration": 27,
    "start_time": "2022-10-29T14:53:59.748Z"
   },
   {
    "duration": 28,
    "start_time": "2022-10-29T14:53:59.776Z"
   },
   {
    "duration": 44,
    "start_time": "2022-10-29T14:53:59.806Z"
   },
   {
    "duration": 29,
    "start_time": "2022-10-29T14:53:59.851Z"
   },
   {
    "duration": 70,
    "start_time": "2022-10-29T15:12:48.335Z"
   },
   {
    "duration": 14,
    "start_time": "2022-10-29T15:12:48.406Z"
   },
   {
    "duration": 21,
    "start_time": "2022-10-29T15:12:48.432Z"
   },
   {
    "duration": 17,
    "start_time": "2022-10-29T15:12:48.455Z"
   },
   {
    "duration": 31,
    "start_time": "2022-10-29T15:12:48.475Z"
   },
   {
    "duration": 3,
    "start_time": "2022-10-29T15:12:48.508Z"
   },
   {
    "duration": 9,
    "start_time": "2022-10-29T15:12:48.532Z"
   },
   {
    "duration": 6,
    "start_time": "2022-10-29T15:12:48.543Z"
   },
   {
    "duration": 7,
    "start_time": "2022-10-29T15:12:48.551Z"
   },
   {
    "duration": 7,
    "start_time": "2022-10-29T15:12:48.560Z"
   },
   {
    "duration": 34,
    "start_time": "2022-10-29T15:12:48.568Z"
   },
   {
    "duration": 35,
    "start_time": "2022-10-29T15:12:48.603Z"
   },
   {
    "duration": 7,
    "start_time": "2022-10-29T15:12:48.640Z"
   },
   {
    "duration": 24,
    "start_time": "2022-10-29T15:12:48.649Z"
   },
   {
    "duration": 22,
    "start_time": "2022-10-29T15:12:48.675Z"
   },
   {
    "duration": 17,
    "start_time": "2022-10-29T15:12:48.699Z"
   },
   {
    "duration": 9,
    "start_time": "2022-10-29T15:12:48.727Z"
   },
   {
    "duration": 9,
    "start_time": "2022-10-29T15:12:48.738Z"
   },
   {
    "duration": 8,
    "start_time": "2022-10-29T15:12:48.749Z"
   },
   {
    "duration": 3,
    "start_time": "2022-10-29T15:12:48.759Z"
   },
   {
    "duration": 25,
    "start_time": "2022-10-29T15:12:48.764Z"
   },
   {
    "duration": 47,
    "start_time": "2022-10-29T15:12:48.790Z"
   },
   {
    "duration": 42,
    "start_time": "2022-10-29T15:12:48.839Z"
   },
   {
    "duration": 51,
    "start_time": "2022-10-29T15:12:48.883Z"
   },
   {
    "duration": 50,
    "start_time": "2022-10-29T15:12:48.936Z"
   },
   {
    "duration": 75,
    "start_time": "2022-10-29T15:33:41.695Z"
   },
   {
    "duration": 13,
    "start_time": "2022-10-29T15:33:41.772Z"
   },
   {
    "duration": 16,
    "start_time": "2022-10-29T15:33:41.787Z"
   },
   {
    "duration": 9,
    "start_time": "2022-10-29T15:33:41.804Z"
   },
   {
    "duration": 34,
    "start_time": "2022-10-29T15:33:41.828Z"
   },
   {
    "duration": 3,
    "start_time": "2022-10-29T15:33:41.864Z"
   },
   {
    "duration": 10,
    "start_time": "2022-10-29T15:33:41.868Z"
   },
   {
    "duration": 4,
    "start_time": "2022-10-29T15:33:41.879Z"
   },
   {
    "duration": 8,
    "start_time": "2022-10-29T15:33:41.884Z"
   },
   {
    "duration": 11,
    "start_time": "2022-10-29T15:33:41.893Z"
   },
   {
    "duration": 52,
    "start_time": "2022-10-29T15:33:41.905Z"
   },
   {
    "duration": 8,
    "start_time": "2022-10-29T15:33:41.959Z"
   },
   {
    "duration": 9,
    "start_time": "2022-10-29T15:33:41.969Z"
   },
   {
    "duration": 22,
    "start_time": "2022-10-29T15:33:41.980Z"
   },
   {
    "duration": 17,
    "start_time": "2022-10-29T15:33:42.003Z"
   },
   {
    "duration": 25,
    "start_time": "2022-10-29T15:33:42.023Z"
   },
   {
    "duration": 3,
    "start_time": "2022-10-29T15:33:42.050Z"
   },
   {
    "duration": 13,
    "start_time": "2022-10-29T15:33:42.054Z"
   },
   {
    "duration": 5,
    "start_time": "2022-10-29T15:33:42.069Z"
   },
   {
    "duration": 4,
    "start_time": "2022-10-29T15:33:42.075Z"
   },
   {
    "duration": 25,
    "start_time": "2022-10-29T15:33:42.080Z"
   },
   {
    "duration": 50,
    "start_time": "2022-10-29T15:33:42.106Z"
   },
   {
    "duration": 27,
    "start_time": "2022-10-29T15:33:42.157Z"
   },
   {
    "duration": 50,
    "start_time": "2022-10-29T15:33:42.185Z"
   },
   {
    "duration": 26,
    "start_time": "2022-10-29T15:33:42.237Z"
   }
  ],
  "colab": {
   "name": "dpp_template_part2.ipynb",
   "provenance": []
  },
  "kernelspec": {
   "display_name": "Python 3 (ipykernel)",
   "language": "python",
   "name": "python3"
  },
  "language_info": {
   "codemirror_mode": {
    "name": "ipython",
    "version": 3
   },
   "file_extension": ".py",
   "mimetype": "text/x-python",
   "name": "python",
   "nbconvert_exporter": "python",
   "pygments_lexer": "ipython3",
   "version": "3.9.13"
  },
  "toc": {
   "base_numbering": 1,
   "nav_menu": {},
   "number_sections": true,
   "sideBar": true,
   "skip_h1_title": true,
   "title_cell": "Table of Contents",
   "title_sidebar": "Contents",
   "toc_cell": false,
   "toc_position": {},
   "toc_section_display": true,
   "toc_window_display": true
  }
 },
 "nbformat": 4,
 "nbformat_minor": 5
}
